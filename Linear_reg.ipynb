{
 "cells": [
  {
   "cell_type": "code",
   "execution_count": 6,
   "id": "1665b9e5-e8db-4640-bd6b-aff87cbedd66",
   "metadata": {},
   "outputs": [],
   "source": [
    "import pandas as pd\n",
    "\n",
    "# Load the dataset\n",
    "df = pd.read_csv(\"CS98XRegressionTrain-2.csv\")\n"
   ]
  },
  {
   "cell_type": "code",
   "execution_count": 7,
   "id": "ec89af25-a1fc-4e37-be39-745f6e83f4d6",
   "metadata": {},
   "outputs": [],
   "source": [
    "\n",
    "\n",
    "# Select features and target variable\n",
    "features = ['bpm', 'nrgy', 'dnce', 'dB', 'live', 'val', 'dur', 'acous', 'spch']\n",
    "X = df[features]  # Features\n",
    "y = df['pop']     # Target variable"
   ]
  },
  {
   "cell_type": "code",
   "execution_count": 8,
   "id": "18112855-8b42-4db7-b658-fe046b09e90b",
   "metadata": {},
   "outputs": [],
   "source": [
    "from sklearn.model_selection import train_test_split\n",
    "\n",
    "# Split the data into training and testing sets\n",
    "X_train, X_test, y_train, y_test = train_test_split(X, y, test_size=0.2, random_state=42)"
   ]
  },
  {
   "cell_type": "code",
   "execution_count": 9,
   "id": "6461973c-8388-4e47-a801-edbfb465cbe0",
   "metadata": {},
   "outputs": [
    {
     "data": {
      "text/html": [
       "<style>#sk-container-id-1 {color: black;}#sk-container-id-1 pre{padding: 0;}#sk-container-id-1 div.sk-toggleable {background-color: white;}#sk-container-id-1 label.sk-toggleable__label {cursor: pointer;display: block;width: 100%;margin-bottom: 0;padding: 0.3em;box-sizing: border-box;text-align: center;}#sk-container-id-1 label.sk-toggleable__label-arrow:before {content: \"▸\";float: left;margin-right: 0.25em;color: #696969;}#sk-container-id-1 label.sk-toggleable__label-arrow:hover:before {color: black;}#sk-container-id-1 div.sk-estimator:hover label.sk-toggleable__label-arrow:before {color: black;}#sk-container-id-1 div.sk-toggleable__content {max-height: 0;max-width: 0;overflow: hidden;text-align: left;background-color: #f0f8ff;}#sk-container-id-1 div.sk-toggleable__content pre {margin: 0.2em;color: black;border-radius: 0.25em;background-color: #f0f8ff;}#sk-container-id-1 input.sk-toggleable__control:checked~div.sk-toggleable__content {max-height: 200px;max-width: 100%;overflow: auto;}#sk-container-id-1 input.sk-toggleable__control:checked~label.sk-toggleable__label-arrow:before {content: \"▾\";}#sk-container-id-1 div.sk-estimator input.sk-toggleable__control:checked~label.sk-toggleable__label {background-color: #d4ebff;}#sk-container-id-1 div.sk-label input.sk-toggleable__control:checked~label.sk-toggleable__label {background-color: #d4ebff;}#sk-container-id-1 input.sk-hidden--visually {border: 0;clip: rect(1px 1px 1px 1px);clip: rect(1px, 1px, 1px, 1px);height: 1px;margin: -1px;overflow: hidden;padding: 0;position: absolute;width: 1px;}#sk-container-id-1 div.sk-estimator {font-family: monospace;background-color: #f0f8ff;border: 1px dotted black;border-radius: 0.25em;box-sizing: border-box;margin-bottom: 0.5em;}#sk-container-id-1 div.sk-estimator:hover {background-color: #d4ebff;}#sk-container-id-1 div.sk-parallel-item::after {content: \"\";width: 100%;border-bottom: 1px solid gray;flex-grow: 1;}#sk-container-id-1 div.sk-label:hover label.sk-toggleable__label {background-color: #d4ebff;}#sk-container-id-1 div.sk-serial::before {content: \"\";position: absolute;border-left: 1px solid gray;box-sizing: border-box;top: 0;bottom: 0;left: 50%;z-index: 0;}#sk-container-id-1 div.sk-serial {display: flex;flex-direction: column;align-items: center;background-color: white;padding-right: 0.2em;padding-left: 0.2em;position: relative;}#sk-container-id-1 div.sk-item {position: relative;z-index: 1;}#sk-container-id-1 div.sk-parallel {display: flex;align-items: stretch;justify-content: center;background-color: white;position: relative;}#sk-container-id-1 div.sk-item::before, #sk-container-id-1 div.sk-parallel-item::before {content: \"\";position: absolute;border-left: 1px solid gray;box-sizing: border-box;top: 0;bottom: 0;left: 50%;z-index: -1;}#sk-container-id-1 div.sk-parallel-item {display: flex;flex-direction: column;z-index: 1;position: relative;background-color: white;}#sk-container-id-1 div.sk-parallel-item:first-child::after {align-self: flex-end;width: 50%;}#sk-container-id-1 div.sk-parallel-item:last-child::after {align-self: flex-start;width: 50%;}#sk-container-id-1 div.sk-parallel-item:only-child::after {width: 0;}#sk-container-id-1 div.sk-dashed-wrapped {border: 1px dashed gray;margin: 0 0.4em 0.5em 0.4em;box-sizing: border-box;padding-bottom: 0.4em;background-color: white;}#sk-container-id-1 div.sk-label label {font-family: monospace;font-weight: bold;display: inline-block;line-height: 1.2em;}#sk-container-id-1 div.sk-label-container {text-align: center;}#sk-container-id-1 div.sk-container {/* jupyter's `normalize.less` sets `[hidden] { display: none; }` but bootstrap.min.css set `[hidden] { display: none !important; }` so we also need the `!important` here to be able to override the default hidden behavior on the sphinx rendered scikit-learn.org. See: https://github.com/scikit-learn/scikit-learn/issues/21755 */display: inline-block !important;position: relative;}#sk-container-id-1 div.sk-text-repr-fallback {display: none;}</style><div id=\"sk-container-id-1\" class=\"sk-top-container\"><div class=\"sk-text-repr-fallback\"><pre>LinearRegression()</pre><b>In a Jupyter environment, please rerun this cell to show the HTML representation or trust the notebook. <br />On GitHub, the HTML representation is unable to render, please try loading this page with nbviewer.org.</b></div><div class=\"sk-container\" hidden><div class=\"sk-item\"><div class=\"sk-estimator sk-toggleable\"><input class=\"sk-toggleable__control sk-hidden--visually\" id=\"sk-estimator-id-1\" type=\"checkbox\" checked><label for=\"sk-estimator-id-1\" class=\"sk-toggleable__label sk-toggleable__label-arrow\">LinearRegression</label><div class=\"sk-toggleable__content\"><pre>LinearRegression()</pre></div></div></div></div></div>"
      ],
      "text/plain": [
       "LinearRegression()"
      ]
     },
     "execution_count": 9,
     "metadata": {},
     "output_type": "execute_result"
    }
   ],
   "source": [
    "from sklearn.linear_model import LinearRegression\n",
    "\n",
    "# Initialize the Linear Regression model\n",
    "model = LinearRegression()\n",
    "\n",
    "# Train the model\n",
    "model.fit(X_train, y_train)"
   ]
  },
  {
   "cell_type": "code",
   "execution_count": 10,
   "id": "1c893434-c406-4b10-8dc9-27cf89fb513e",
   "metadata": {},
   "outputs": [],
   "source": [
    "# Make predictions on the test set\n",
    "y_pred = model.predict(X_test)"
   ]
  },
  {
   "cell_type": "code",
   "execution_count": 11,
   "id": "b9a1ed10-1f7b-4448-9113-001c3222ba98",
   "metadata": {},
   "outputs": [
    {
     "name": "stdout",
     "output_type": "stream",
     "text": [
      "Root Mean Squared Error (RMSE): 12.13174\n",
      "Mean Squared Error (MSE): 147.1790521334006\n"
     ]
    }
   ],
   "source": [
    "from sklearn.metrics import mean_squared_error, r2_score\n",
    "\n",
    "# Evaluate the model\n",
    "mse = mean_squared_error(y_test, y_pred)\n",
    "rmse = mean_squared_error(y_test, y_pred, squared=False)  # Set squared=False for RMSE\n",
    "\n",
    "print(f'Root Mean Squared Error (RMSE): {rmse:.5f}')\n",
    "print(f'Mean Squared Error (MSE): {mse}')\n"
   ]
  },
  {
   "cell_type": "code",
   "execution_count": 12,
   "id": "3fff58c8-e67f-45c2-9102-486bbd0af10e",
   "metadata": {},
   "outputs": [
    {
     "name": "stdout",
     "output_type": "stream",
     "text": [
      "Predicted Popularity: 64.23459515919949\n"
     ]
    }
   ],
   "source": [
    "# New data (example)\n",
    "new_data = [[120, 70, 65, -5, 10, 50, 200, 30, 5]]\n",
    "\n",
    "# Convert new_data to a DataFrame with feature names\n",
    "new_data_df = pd.DataFrame(new_data, columns=features)\n",
    "\n",
    "# Make prediction\n",
    "predicted_popularity = model.predict(new_data_df)\n",
    "print(f'Predicted Popularity: {predicted_popularity[0]}')"
   ]
  },
  {
   "cell_type": "code",
   "execution_count": 13,
   "id": "ebf9b23c-651a-4c44-a896-3eba7d615de0",
   "metadata": {},
   "outputs": [],
   "source": [
    "# Select a random sample of 100 rows\n",
    "sample_size = 114\n",
    "sample_data = df.sample(n=sample_size, random_state=42)\n",
    "\n",
    "# Predict popularity for the sample\n",
    "sample_data['predicted_pop'] = model.predict(sample_data[features])\n"
   ]
  },
  {
   "cell_type": "code",
   "execution_count": 14,
   "id": "f19c94f4-cb8e-4cc0-ac6a-e3b765266afe",
   "metadata": {},
   "outputs": [],
   "source": [
    "# Replace the 'pop' column with 'predicted_pop'\n",
    "sample_data = sample_data.drop(columns=['pop'])\n",
    "sample_data = sample_data.rename(columns={'predicted_pop': 'pop'})"
   ]
  },
  {
   "cell_type": "code",
   "execution_count": 15,
   "id": "b47280d5-a70d-41da-8835-cdb8be48342d",
   "metadata": {},
   "outputs": [
    {
     "name": "stdout",
     "output_type": "stream",
     "text": [
      "Predictions saved to 'sample_predictions.csv'!\n"
     ]
    }
   ],
   "source": [
    "sample_data[['Id', 'pop']].to_csv(\"Linear_predictions.csv\", index=False)\n",
    "print(\"Predictions saved to 'sample_predictions.csv'!\")"
   ]
  },
  {
   "cell_type": "code",
   "execution_count": 16,
   "id": "15429c77-8c64-402d-b0ce-21930c155b23",
   "metadata": {},
   "outputs": [],
   "source": [
    "test_df = pd.read_csv(\"CS98XRegressionTest.csv\")\n"
   ]
  },
  {
   "cell_type": "code",
   "execution_count": 17,
   "id": "da140f55-0ccf-46a7-97c9-a2b9b8318af7",
   "metadata": {},
   "outputs": [],
   "source": [
    "X_test = test_df[features]\n",
    "test_df['pop'] = model.predict(X_test)  # Save predicted values as 'pop'"
   ]
  },
  {
   "cell_type": "code",
   "execution_count": 18,
   "id": "b40b141b",
   "metadata": {},
   "outputs": [
    {
     "name": "stdout",
     "output_type": "stream",
     "text": [
      "Predictions saved to 'test_predictions.csv'!\n"
     ]
    }
   ],
   "source": [
    "test_df[['Id', 'pop']].to_csv(\"Linear_predictions.csv\", index=False)\n",
    "print(\"Predictions saved to 'test_predictions.csv'!\")"
   ]
  },
  {
   "cell_type": "code",
   "execution_count": 19,
   "id": "5bfe6491",
   "metadata": {},
   "outputs": [
    {
     "name": "stdout",
     "output_type": "stream",
     "text": [
      "Root Mean Squared Error (RMSE): 12.13174\n",
      "Mean Squared Error (MSE): 147.1790521334006\n"
     ]
    }
   ],
   "source": [
    "from sklearn.metrics import mean_squared_error, r2_score\n",
    "\n",
    "# Evaluate the model\n",
    "mse = mean_squared_error(y_test, y_pred)\n",
    "rmse = mean_squared_error(y_test, y_pred, squared=False)  # Set squared=False for RMSE\n",
    "\n",
    "print(f'Root Mean Squared Error (RMSE): {rmse:.5f}')\n",
    "print(f'Mean Squared Error (MSE): {mse}')"
   ]
  },
  {
   "cell_type": "code",
   "execution_count": null,
   "id": "b8e4bbd7",
   "metadata": {},
   "outputs": [],
   "source": []
  }
 ],
 "metadata": {
  "kernelspec": {
   "display_name": "Python 3",
   "language": "python",
   "name": "python3"
  },
  "language_info": {
   "codemirror_mode": {
    "name": "ipython",
    "version": 3
   },
   "file_extension": ".py",
   "mimetype": "text/x-python",
   "name": "python",
   "nbconvert_exporter": "python",
   "pygments_lexer": "ipython3",
   "version": "3.12.1"
  }
 },
 "nbformat": 4,
 "nbformat_minor": 5
}
