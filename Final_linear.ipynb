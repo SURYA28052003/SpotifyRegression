{
 "cells": [
  {
   "cell_type": "code",
   "execution_count": 2,
   "metadata": {},
   "outputs": [
    {
     "name": "stdout",
     "output_type": "stream",
     "text": [
      "Predictions saved to 'test_predictions.csv'!\n"
     ]
    }
   ],
   "source": [
    "import pandas as pd\n",
    "from sklearn.model_selection import train_test_split\n",
    "from sklearn.linear_model import Ridge\n",
    "from sklearn.preprocessing import StandardScaler, PolynomialFeatures\n",
    "\n",
    "# Load and clean the training dataset\n",
    "train_file = \"CS98XRegressionTrain.csv\"  # Ensure the correct file path\n",
    "df = pd.read_csv(train_file).dropna()\n",
    "\n",
    "# Define features and target variable\n",
    "features = ['bpm', 'nrgy', 'dnce', 'dB', 'live', 'val', 'dur', 'acous', 'spch']\n",
    "X = df[features]\n",
    "y = df['pop']\n",
    "\n",
    "# Standardize features\n",
    "scaler = StandardScaler()\n",
    "X_scaled = scaler.fit_transform(X)\n",
    "\n",
    "# Use Polynomial Features to improve model performance\n",
    "poly = PolynomialFeatures(degree=2)\n",
    "X_poly = poly.fit_transform(X_scaled)\n",
    "\n",
    "# Train Ridge Regression (prevents overfitting)\n",
    "model = Ridge(alpha=1.0)\n",
    "model.fit(X_poly, y)\n",
    "\n",
    "# Load the test dataset\n",
    "test_file = \"CS98XRegressionTest.csv\"  # Ensure the correct file path\n",
    "df_test = pd.read_csv(test_file)\n",
    "\n",
    "# Prepare test data features\n",
    "X_test = df_test[features]\n",
    "X_test_scaled = scaler.transform(X_test)  # Use the same scaler as training data\n",
    "X_test_poly = poly.transform(X_test_scaled)\n",
    "\n",
    "# Predict on test data\n",
    "df_test['pop'] = model.predict(X_test_poly)\n",
    "\n",
    "# Retain only 'id' and 'pop' columns\n",
    "df_test = df_test[['Id', 'pop']]\n",
    "\n",
    "# Save predictions\n",
    "df_test.to_csv(\"test_predictions_final.csv\", index=False)\n",
    "\n",
    "print(\"Predictions saved to 'test_predictions.csv'!\")\n"
   ]
  },
  {
   "cell_type": "code",
   "execution_count": null,
   "metadata": {},
   "outputs": [],
   "source": []
  }
 ],
 "metadata": {
  "kernelspec": {
   "display_name": "Python 3",
   "language": "python",
   "name": "python3"
  },
  "language_info": {
   "codemirror_mode": {
    "name": "ipython",
    "version": 3
   },
   "file_extension": ".py",
   "mimetype": "text/x-python",
   "name": "python",
   "nbconvert_exporter": "python",
   "pygments_lexer": "ipython3",
   "version": "3.12.1"
  }
 },
 "nbformat": 4,
 "nbformat_minor": 2
}
